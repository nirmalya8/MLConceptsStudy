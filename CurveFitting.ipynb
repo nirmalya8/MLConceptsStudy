{
  "nbformat": 4,
  "nbformat_minor": 0,
  "metadata": {
    "colab": {
      "name": "CurveFitting.ipynb",
      "provenance": [],
      "collapsed_sections": [],
      "authorship_tag": "ABX9TyOEpEGmrgzOA75BkyeJLejq",
      "include_colab_link": true
    },
    "kernelspec": {
      "name": "python3",
      "display_name": "Python 3"
    }
  },
  "cells": [
    {
      "cell_type": "markdown",
      "metadata": {
        "id": "view-in-github",
        "colab_type": "text"
      },
      "source": [
        "<a href=\"https://colab.research.google.com/github/nirmalya8/MLConceptsStudy/blob/main/CurveFitting.ipynb\" target=\"_parent\"><img src=\"https://colab.research.google.com/assets/colab-badge.svg\" alt=\"Open In Colab\"/></a>"
      ]
    },
    {
      "cell_type": "markdown",
      "metadata": {
        "id": "aZC6Q02mfEC-"
      },
      "source": [
        "In this notebook, we will attempt **Polynomial Curve Fitting**. So, what is Polynomial Curve Fitting ? Basically, we will try to fit a polynomial function into some custom dataset and check the results. We will start by importing some of the required modules."
      ]
    },
    {
      "cell_type": "code",
      "metadata": {
        "id": "0fucR2b7fLxB"
      },
      "source": [
        "import numpy as np\r\n",
        "import matplotlib.pyplot as plt\r\n",
        "import math"
      ],
      "execution_count": 1,
      "outputs": []
    },
    {
      "cell_type": "markdown",
      "metadata": {
        "id": "o4do60dLfebu"
      },
      "source": [
        "**DATASET CREATION**\r\n",
        "\r\n",
        "Firstly, we have to create a dataset on which we want to fit the polynomial. We have chosen the **sine** function as the basis of the dataset. Now, we want to create a dataset, which will be well approximated by the sine function. For that purpose, it makes sense to add some random noise to the values given by the sine function. This will make our dataset somewhat different from the sine function but the sine function will be able to approximate the dataset very well. \r\n",
        "\r\n",
        "Hence, we can consider the sine function to be the benchmark we want to attain with our polynomial.  "
      ]
    },
    {
      "cell_type": "code",
      "metadata": {
        "id": "lVhy8mw4fdca"
      },
      "source": [
        "def func(x):\r\n",
        "  return np.sin(x)"
      ],
      "execution_count": 2,
      "outputs": []
    },
    {
      "cell_type": "code",
      "metadata": {
        "id": "0BEEU8zzgUiV"
      },
      "source": [
        "def create_dataset(n):\r\n",
        "  x = np.linspace(0,10,num=n)\r\n",
        "  y = func(x)+np.random.randn(n)*0.1\r\n",
        "  return x,y"
      ],
      "execution_count": 6,
      "outputs": []
    },
    {
      "cell_type": "code",
      "metadata": {
        "colab": {
          "base_uri": "https://localhost:8080/",
          "height": 283
        },
        "id": "XkJMquhvguhH",
        "outputId": "98fa205a-8bbe-44ab-9eda-b9830f4f52fa"
      },
      "source": [
        "x,y = create_dataset(20)\r\n",
        "plt.scatter(x,y)"
      ],
      "execution_count": 33,
      "outputs": [
        {
          "output_type": "execute_result",
          "data": {
            "text/plain": [
              "<matplotlib.collections.PathCollection at 0x7f111b71b9b0>"
            ]
          },
          "metadata": {
            "tags": []
          },
          "execution_count": 33
        },
        {
          "output_type": "display_data",
          "data": {
            "image/png": "[encoded data removed]",
            "text/plain": [
              "<Figure size 432x288 with 1 Axes>"
            ]
          },
          "metadata": {
            "tags": [],
            "needs_background": "light"
          }
        }
      ]
    },
    {
      "cell_type": "markdown",
      "metadata": {
        "id": "v2iOg1U4gwr2"
      },
      "source": [
        "The above plot represent a scatter plot of the points of our dataset. The plot below is the same as above, only the sine function is plotted in green. So, we can see that the sine function generalizes the dataset quite well."
      ]
    },
    {
      "cell_type": "code",
      "metadata": {
        "colab": {
          "base_uri": "https://localhost:8080/",
          "height": 283
        },
        "id": "R4EV4MMGhYKT",
        "outputId": "9084b78c-5a96-4745-f1d2-3d7519e7e506"
      },
      "source": [
        "a = np.linspace(0,10,num=70)\r\n",
        "plt.plot(a,np.sin(a),color='green')\r\n",
        "plt.scatter(x,y)"
      ],
      "execution_count": 34,
      "outputs": [
        {
          "output_type": "execute_result",
          "data": {
            "text/plain": [
              "<matplotlib.collections.PathCollection at 0x7f111b9483c8>"
            ]
          },
          "metadata": {
            "tags": []
          },
          "execution_count": 34
        },
        {
          "output_type": "display_data",
          "data": {
            "image/png": "[encoded data removed]",
            "text/plain": [
              "<Figure size 432x288 with 1 Axes>"
            ]
          },
          "metadata": {
            "tags": [],
            "needs_background": "light"
          }
        }
      ]
    },
    {
      "cell_type": "markdown",
      "metadata": {
        "id": "mXEfRRPohv4l"
      },
      "source": [
        "---\r\n",
        "\r\n",
        "So, let us first define the problem. We want to fit the sine curve with a polynomial of degree n. The polynomial will be of the form - \r\n",
        "\r\n",
        "$$ y = w_0 x^0+w_1x^1+w_2x^2+\\dots+w_nx^n $$\r\n",
        "\r\n",
        "This can also be written as :\r\n",
        "\r\n",
        "$$ y = \\sum_{i=0}^{n} {w_ix^i}$$\r\n",
        "\r\n",
        "If we dive deeper into the Mathematics, we find that this can be represented as:\r\n",
        "\r\n",
        "$$ w =  \\begin {bmatrix}\r\n",
        "w_1 \\\\ \r\n",
        "w_2 \\\\\r\n",
        "w_3 \\\\\r\n",
        "\\vdots \\\\\r\n",
        "\r\n",
        "w_n\r\n",
        " \\end {bmatrix} \r\n",
        " \r\n",
        " x = \\begin {bmatrix}\r\n",
        "x \\\\ \r\n",
        "x^2 \\\\\r\n",
        "x^3 \\\\\r\n",
        "\\vdots \\\\\r\n",
        "\r\n",
        "x^n\r\n",
        " \\end {bmatrix}\r\n",
        " \r\n",
        " $$\r\n",
        "\r\n",
        "So, y can be written as\r\n",
        "\r\n",
        "$$ y = w^Tx   $$\r\n",
        "\r\n",
        "$$ y =   \\begin {bmatrix}\r\n",
        "w_1  \\   \r\n",
        "w_2   \\\r\n",
        "w_3   \\\r\n",
        "\\dots  \\ \r\n",
        "\r\n",
        "w_n \\\r\n",
        " \\end {bmatrix} \r\n",
        " \r\n",
        " \\begin {bmatrix}\r\n",
        "x \\\\ \r\n",
        "x^2 \\\\\r\n",
        "x^3 \\\\\r\n",
        "\\vdots \\\\\r\n",
        "\r\n",
        "x^n\r\n",
        " \\end {bmatrix}  + w_0$$\r\n",
        "\r\n",
        "We will apply the final equation, taking the values of w and powers of x to find an output.\r\n",
        "\r\n",
        "\r\n",
        "\r\n",
        "---"
      ]
    },
    {
      "cell_type": "markdown",
      "metadata": {
        "id": "Ml22Jyf9n7HO"
      },
      "source": [
        "\r\n",
        "\r\n",
        "Now that we have created the dataset, it makes sense for us to create a few helper functions. First we create a **predict function** . This function will take in the input value and the weights and give a prediction. "
      ]
    },
    {
      "cell_type": "code",
      "metadata": {
        "id": "dnz3m0hllAwy"
      },
      "source": [
        "def predict(x,w):\r\n",
        "  x_v = [x**i for i in range(len(w))]\r\n",
        "  return np.dot(x_v,w) "
      ],
      "execution_count": 9,
      "outputs": []
    },
    {
      "cell_type": "markdown",
      "metadata": {
        "id": "bI8UxdIwkcBt"
      },
      "source": [
        "As we are trying to fit a curve based on a dataset, it becomes very important which **loss function** we choose. Here, I have trained the models for different loss functions and found that two functions optimize the problem very well:\r\n",
        "1. The Mean Squared Error function\r\n",
        "\r\n",
        "$$ Error(x,y,w) = Mean\\ (Predicted\\ value - Actual\\ Value )^2 $$\r\n",
        "2. The Total Absolute Error function\r\n",
        "\r\n",
        "$$ Error(x,y,w) = Sum\\ |Predicted\\ value - Actual\\ Value | $$"
      ]
    },
    {
      "cell_type": "code",
      "metadata": {
        "id": "HmjoxNa-pzDt"
      },
      "source": [
        "def loss(y,x,w):\r\n",
        "  yhat = [predict(x,w) for x in x]\r\n",
        "  l = sum((y-yhat)**2) / len(w)\r\n",
        "  return l,yhat"
      ],
      "execution_count": 10,
      "outputs": []
    },
    {
      "cell_type": "code",
      "metadata": {
        "id": "ouq-bXqdXkok"
      },
      "source": [
        "def lossmod(y,x,w):\r\n",
        "  yhat = [predict(x,w) for x in x]\r\n",
        "  l = np.sum(np.abs((y-yhat)))\r\n",
        "  return l,yhat"
      ],
      "execution_count": 50,
      "outputs": []
    },
    {
      "cell_type": "markdown",
      "metadata": {
        "id": "kdboLRoDnfBH"
      },
      "source": [
        "---\r\n",
        "Now that we have created the dataset and defined the loss functions, we can now move into optimization. We will use the **Gradient Descent Optimizer** here.\r\n",
        "\r\n",
        "<img src = \"/content/grad_desc.jpeg\" >"
      ]
    },
    {
      "cell_type": "markdown",
      "metadata": {
        "id": "G4EO9Q2bpMPq"
      },
      "source": [
        "As we are doing everything from scratch, I have also written the derivative calculator as **grad2** . It computes gradient based on:\r\n",
        "$$ \\frac {d f(a)}{dh} =   \\lim_{h\\to0} \\left[\\frac {f(a+h)-f(a)}{h} \\right]  $$\r\n",
        "\r\n",
        "It takes the loss function, weight vector, x, y values, the value h which is near 0 and finally val. Val is basically the index of the weight matrix, on the basis of which we want to calculate the derivative."
      ]
    },
    {
      "cell_type": "code",
      "metadata": {
        "id": "R0VFQyFRpLjt"
      },
      "source": [
        "def grad2(f,w,x,y,h,val):\r\n",
        "  b,yhat = f(y,x,w)\r\n",
        "  w[val]+=h\r\n",
        "  a,yhat = f(y,x,w)\r\n",
        "  g = (a-b)/h\r\n",
        "  return g,yhat"
      ],
      "execution_count": 11,
      "outputs": []
    },
    {
      "cell_type": "markdown",
      "metadata": {
        "id": "6BcvU0hZnlZw"
      },
      "source": [
        "---\r\n",
        "\r\n",
        "**GRADIENT DESCENT BEGINS**"
      ]
    },
    {
      "cell_type": "code",
      "metadata": {
        "id": "Yxou3h5OFHhc"
      },
      "source": [
        "import time"
      ],
      "execution_count": 12,
      "outputs": []
    },
    {
      "cell_type": "markdown",
      "metadata": {
        "id": "sH2ErdadpCEi"
      },
      "source": [
        "Initializing the weights matrix with 4 numbers, as we want to fit a 3degree polynomial."
      ]
    },
    {
      "cell_type": "code",
      "metadata": {
        "id": "nfRudgApxk5N",
        "colab": {
          "base_uri": "https://localhost:8080/"
        },
        "outputId": "c69ccdc7-1cf2-4af4-dd34-570b5f3d4483"
      },
      "source": [
        "t=time.time()\r\n",
        "w_vector = np.random.randn(4)\r\n",
        "print(w_vector)\r\n",
        "time.time()-t"
      ],
      "execution_count": 98,
      "outputs": [
        {
          "output_type": "stream",
          "text": [
            "[ 0.16036118 -0.28277046 -1.32136397  0.82902514]\n"
          ],
          "name": "stdout"
        },
        {
          "output_type": "execute_result",
          "data": {
            "text/plain": [
              "0.00046634674072265625"
            ]
          },
          "metadata": {
            "tags": []
          },
          "execution_count": 98
        }
      ]
    },
    {
      "cell_type": "code",
      "metadata": {
        "colab": {
          "base_uri": "https://localhost:8080/"
        },
        "id": "9SBfCFxQWT-F",
        "outputId": "a11d2f2e-71ee-4f9a-de10-27c6f3907cbb"
      },
      "source": [
        "x,y"
      ],
      "execution_count": 39,
      "outputs": [
        {
          "output_type": "execute_result",
          "data": {
            "text/plain": [
              "(array([ 0.        ,  0.52631579,  1.05263158,  1.57894737,  2.10526316,\n",
              "         2.63157895,  3.15789474,  3.68421053,  4.21052632,  4.73684211,\n",
              "         5.26315789,  5.78947368,  6.31578947,  6.84210526,  7.36842105,\n",
              "         7.89473684,  8.42105263,  8.94736842,  9.47368421, 10.        ]),\n",
              " array([-0.14576443,  0.5313364 ,  0.86794659,  0.83164785,  0.80514719,\n",
              "         0.72685062, -0.07161753, -0.46227308, -0.84263437, -0.85228129,\n",
              "        -0.87175577, -0.44268354, -0.09424213,  0.45647095,  0.86066241,\n",
              "         1.01403879,  0.97587676,  0.63928394, -0.07575216, -0.57383243]))"
            ]
          },
          "metadata": {
            "tags": []
          },
          "execution_count": 39
        }
      ]
    },
    {
      "cell_type": "markdown",
      "metadata": {
        "id": "PwQvwx4p0HAL"
      },
      "source": [
        "Hard coding gradient descent for 50,000 epochs "
      ]
    },
    {
      "cell_type": "code",
      "metadata": {
        "colab": {
          "base_uri": "https://localhost:8080/"
        },
        "id": "oWCvNZ-VqMsB",
        "outputId": "2e4fbd40-1e68-4a64-e561-a549f8f1d6f6"
      },
      "source": [
        "t=time.time()\r\n",
        "print(loss(y,x,w_vector))\r\n",
        "yhat = []\r\n",
        "lossf = []\r\n",
        "#finding gradient wrt w[0]\r\n",
        "for i in range(100000):\r\n",
        "  #g4,yhat = grad2(loss,w_vector,x,y,0.0000000001,4)\r\n",
        "  g3,yhat = grad2(loss,w_vector,x,y,0.0000000001,3)\r\n",
        "  g2,yhat = grad2(loss,w_vector,x,y,0.0000000001,2)\r\n",
        "  g1,yhat = grad2(loss,w_vector,x,y,0.0000000001,1)\r\n",
        "  g0,yhat = grad2(loss,w_vector,x,y,0.0000000001,0)\r\n",
        "  #for j in range(6):\r\n",
        "  #  w_vector[j]-=0.1\r\n",
        "  \r\n",
        "  #w_vector[4]-=1e-8*g4\r\n",
        "  #print(\"w[4] {}\".format(w_vector[4]))\r\n",
        "  w_vector[3]-=1e-6*g3\r\n",
        "  #print(\"w[3] {}\".format(w_vector[3]))\r\n",
        "  w_vector[2]-=1e-6*g2\r\n",
        "  #print(\"w[2] {}\".format(w_vector[2]))\r\n",
        "  w_vector[1]-=1e-6*g1\r\n",
        "  #print(\"w[1] {}\".format(w_vector[1]))\r\n",
        "  w_vector[0]-=1e-6*g0\r\n",
        "  #print(\"w[0] {}\".format(w_vector[0]))\r\n",
        "  #print(yhat)\r\n",
        "  l,_ = loss(y,x,w_vector)\r\n",
        "  lossf.append(l)\r\n",
        "  if(i%500 == 0):\r\n",
        "    print(\"Loss at epoch {} is {}\".format(i,l))\r\n",
        "\r\n",
        "time.time()-t"
      ],
      "execution_count": 103,
      "outputs": [
        {
          "output_type": "stream",
          "text": [
            "(2.1660657459467756, [0.2531489127539641, 0.2786437540758122, 0.28651795884460113, 0.27957204148485487, 0.2606065164210978, 0.23242189807785388, 0.1978187008796474, 0.1595974392510025, 0.12055862761644337, 0.083502780400494, 0.05123041202767879, 0.026542036922521765, 0.012238169509547297, 0.011119324213279443, 0.025986015458241807, 0.05963875766895921, 0.11487806526995607, 0.1945044526857561, 0.30131843434088235, 0.4381205246598617])\n",
            "Loss at epoch 0 is 2.166065094425085\n",
            "Loss at epoch 500 is 2.1657398957347427\n",
            "Loss at epoch 1000 is 2.1654158113032747\n",
            "Loss at epoch 1500 is 2.1650928355819308\n",
            "Loss at epoch 2000 is 2.1647709630343384\n",
            "Loss at epoch 2500 is 2.164450188388052\n",
            "Loss at epoch 3000 is 2.1641305064452054\n",
            "Loss at epoch 3500 is 2.1638119115986827\n",
            "Loss at epoch 4000 is 2.1634943988155384\n",
            "Loss at epoch 4500 is 2.1631779626589887\n",
            "Loss at epoch 5000 is 2.1628625978090597\n",
            "Loss at epoch 5500 is 2.162548299343981\n",
            "Loss at epoch 6000 is 2.162235061940081\n",
            "Loss at epoch 6500 is 2.1619228803372\n",
            "Loss at epoch 7000 is 2.1616117495217737\n",
            "Loss at epoch 7500 is 2.161301664232633\n",
            "Loss at epoch 8000 is 2.160992619475927\n",
            "Loss at epoch 8500 is 2.160684610199054\n",
            "Loss at epoch 9000 is 2.160377631418092\n",
            "Loss at epoch 9500 is 2.1600716778612865\n",
            "Loss at epoch 10000 is 2.159766745103796\n",
            "Loss at epoch 10500 is 2.1594628277472383\n",
            "Loss at epoch 11000 is 2.159159920977724\n",
            "Loss at epoch 11500 is 2.1588580197445753\n",
            "Loss at epoch 12000 is 2.1585571193965096\n",
            "Loss at epoch 12500 is 2.1582572148463917\n",
            "Loss at epoch 13000 is 2.157958301498695\n",
            "Loss at epoch 13500 is 2.1576603743944647\n",
            "Loss at epoch 14000 is 2.1573634288579036\n",
            "Loss at epoch 14500 is 2.1570674601671826\n",
            "Loss at epoch 15000 is 2.1567724634789753\n",
            "Loss at epoch 15500 is 2.15647843400377\n",
            "Loss at epoch 16000 is 2.1561853673376095\n",
            "Loss at epoch 16500 is 2.1558932586439847\n",
            "Loss at epoch 17000 is 2.1556021032644486\n",
            "Loss at epoch 17500 is 2.1553118965204594\n",
            "Loss at epoch 18000 is 2.1550226341399963\n",
            "Loss at epoch 18500 is 2.1547343112587027\n",
            "Loss at epoch 19000 is 2.1544469233866184\n",
            "Loss at epoch 19500 is 2.1541604660906097\n",
            "Loss at epoch 20000 is 2.153874934673637\n",
            "Loss at epoch 20500 is 2.153590324860743\n",
            "Loss at epoch 21000 is 2.153306632171053\n",
            "Loss at epoch 21500 is 2.153023852061335\n",
            "Loss at epoch 22000 is 2.152741980372892\n",
            "Loss at epoch 22500 is 2.152461012654924\n",
            "Loss at epoch 23000 is 2.152180944329048\n",
            "Loss at epoch 23500 is 2.1519017712329687\n",
            "Loss at epoch 24000 is 2.151623489009913\n",
            "Loss at epoch 24500 is 2.1513460933860737\n",
            "Loss at epoch 25000 is 2.1510695800733233\n",
            "Loss at epoch 25500 is 2.1507939448692164\n",
            "Loss at epoch 26000 is 2.1505191834778477\n",
            "Loss at epoch 26500 is 2.1502452917307533\n",
            "Loss at epoch 27000 is 2.1499722654208457\n",
            "Loss at epoch 27500 is 2.1497001005135723\n",
            "Loss at epoch 28000 is 2.1494287926762516\n",
            "Loss at epoch 28500 is 2.1491583378098236\n",
            "Loss at epoch 29000 is 2.1488887319544685\n",
            "Loss at epoch 29500 is 2.148619970883567\n",
            "Loss at epoch 30000 is 2.148352050644141\n",
            "Loss at epoch 30500 is 2.148084967157285\n",
            "Loss at epoch 31000 is 2.1478187165238363\n",
            "Loss at epoch 31500 is 2.1475532946394718\n",
            "Loss at epoch 32000 is 2.147288697291002\n",
            "Loss at epoch 32500 is 2.147024920947459\n",
            "Loss at epoch 33000 is 2.1467619614889886\n",
            "Loss at epoch 33500 is 2.1464998149019303\n",
            "Loss at epoch 34000 is 2.1462384775397316\n",
            "Loss at epoch 34500 is 2.145977945133963\n",
            "Loss at epoch 35000 is 2.1457182141462168\n",
            "Loss at epoch 35500 is 2.1454592806681325\n",
            "Loss at epoch 36000 is 2.1452011410505083\n",
            "Loss at epoch 36500 is 2.144943791182839\n",
            "Loss at epoch 37000 is 2.144687227443027\n",
            "Loss at epoch 37500 is 2.1444314460684892\n",
            "Loss at epoch 38000 is 2.1441764432884147\n",
            "Loss at epoch 38500 is 2.143922215486666\n",
            "Loss at epoch 39000 is 2.1436687588965655\n",
            "Loss at epoch 39500 is 2.1434160698173117\n",
            "Loss at epoch 40000 is 2.1431641445167076\n",
            "Loss at epoch 40500 is 2.1429129794287034\n",
            "Loss at epoch 41000 is 2.142662570882216\n",
            "Loss at epoch 41500 is 2.1424129153699862\n",
            "Loss at epoch 42000 is 2.1421640093358647\n",
            "Loss at epoch 42500 is 2.1419158490317844\n",
            "Loss at epoch 43000 is 2.141668430985464\n",
            "Loss at epoch 43500 is 2.1414217518406353\n",
            "Loss at epoch 44000 is 2.1411758078768632\n",
            "Loss at epoch 44500 is 2.1409305955444005\n",
            "Loss at epoch 45000 is 2.1406861115046336\n",
            "Loss at epoch 45500 is 2.140442352289332\n",
            "Loss at epoch 46000 is 2.1401993142697613\n",
            "Loss at epoch 46500 is 2.1399569942844514\n",
            "Loss at epoch 47000 is 2.139715388677783\n",
            "Loss at epoch 47500 is 2.1394744942687995\n",
            "Loss at epoch 48000 is 2.13923430763342\n",
            "Loss at epoch 48500 is 2.1389948253580213\n",
            "Loss at epoch 49000 is 2.13875604408856\n",
            "Loss at epoch 49500 is 2.138517960520796\n",
            "Loss at epoch 50000 is 2.138280571269466\n",
            "Loss at epoch 50500 is 2.1380438733414415\n",
            "Loss at epoch 51000 is 2.137807863183305\n",
            "Loss at epoch 51500 is 2.137572537722999\n",
            "Loss at epoch 52000 is 2.1373378935081555\n",
            "Loss at epoch 52500 is 2.137103927455574\n",
            "Loss at epoch 53000 is 2.136870636150733\n",
            "Loss at epoch 53500 is 2.1366380167150956\n",
            "Loss at epoch 54000 is 2.1364060658028445\n",
            "Loss at epoch 54500 is 2.1361747803274698\n",
            "Loss at epoch 55000 is 2.135944157111177\n",
            "Loss at epoch 55500 is 2.1357141929910686\n",
            "Loss at epoch 56000 is 2.1354848848050993\n",
            "Loss at epoch 56500 is 2.1352562297039364\n",
            "Loss at epoch 57000 is 2.1350282243970082\n",
            "Loss at epoch 57500 is 2.134800865852151\n",
            "Loss at epoch 58000 is 2.134574151015728\n",
            "Loss at epoch 58500 is 2.134348076934128\n",
            "Loss at epoch 59000 is 2.13412264045883\n",
            "Loss at epoch 59500 is 2.1338978387540966\n",
            "Loss at epoch 60000 is 2.133673668818095\n",
            "Loss at epoch 60500 is 2.133450127382918\n",
            "Loss at epoch 61000 is 2.133227212027129\n",
            "Loss at epoch 61500 is 2.1330049194571\n",
            "Loss at epoch 62000 is 2.1327832467276555\n",
            "Loss at epoch 62500 is 2.132562191074972\n",
            "Loss at epoch 63000 is 2.1323417494435497\n",
            "Loss at epoch 63500 is 2.1321219190958303\n",
            "Loss at epoch 64000 is 2.131902697104775\n",
            "Loss at epoch 64500 is 2.1316840806785775\n",
            "Loss at epoch 65000 is 2.131466066896719\n",
            "Loss at epoch 65500 is 2.1312486530907564\n",
            "Loss at epoch 66000 is 2.131031836298518\n",
            "Loss at epoch 66500 is 2.1308156138695424\n",
            "Loss at epoch 67000 is 2.1305999828950797\n",
            "Loss at epoch 67500 is 2.130384940469692\n",
            "Loss at epoch 68000 is 2.130170484031548\n",
            "Loss at epoch 68500 is 2.1299566107936116\n",
            "Loss at epoch 69000 is 2.1297433180773724\n",
            "Loss at epoch 69500 is 2.129530603182337\n",
            "Loss at epoch 70000 is 2.1293184633020017\n",
            "Loss at epoch 70500 is 2.1291068960124484\n",
            "Loss at epoch 71000 is 2.128895898286399\n",
            "Loss at epoch 71500 is 2.1286854677721387\n",
            "Loss at epoch 72000 is 2.128475601788365\n",
            "Loss at epoch 72500 is 2.1282662974403275\n",
            "Loss at epoch 73000 is 2.128057552479487\n",
            "Loss at epoch 73500 is 2.1278493640699163\n",
            "Loss at epoch 74000 is 2.1276417297180417\n",
            "Loss at epoch 74500 is 2.1274346467984273\n",
            "Loss at epoch 75000 is 2.12722811284317\n",
            "Loss at epoch 75500 is 2.127022125188141\n",
            "Loss at epoch 76000 is 2.1268166813106637\n",
            "Loss at epoch 76500 is 2.1266117787081162\n",
            "Loss at epoch 77000 is 2.126407414992309\n",
            "Loss at epoch 77500 is 2.1262035874090235\n",
            "Loss at epoch 78000 is 2.1260002937483\n",
            "Loss at epoch 78500 is 2.1257975312440416\n",
            "Loss at epoch 79000 is 2.1255952976482244\n",
            "Loss at epoch 79500 is 2.12539359050834\n",
            "Loss at epoch 80000 is 2.1251924074214075\n",
            "Loss at epoch 80500 is 2.1249917457483893\n",
            "Loss at epoch 81000 is 2.1247916031865515\n",
            "Loss at epoch 81500 is 2.1245919774734916\n",
            "Loss at epoch 82000 is 2.124392866143067\n",
            "Loss at epoch 82500 is 2.1241942667881517\n",
            "Loss at epoch 83000 is 2.12399617713723\n",
            "Loss at epoch 83500 is 2.1237985948250744\n",
            "Loss at epoch 84000 is 2.123601517490496\n",
            "Loss at epoch 84500 is 2.123404942707484\n",
            "Loss at epoch 85000 is 2.1232088682829575\n",
            "Loss at epoch 85500 is 2.123013291727097\n",
            "Loss at epoch 86000 is 2.1228182110143474\n",
            "Loss at epoch 86500 is 2.122623623717219\n",
            "Loss at epoch 87000 is 2.122429527663573\n",
            "Loss at epoch 87500 is 2.122235920551801\n",
            "Loss at epoch 88000 is 2.122042800164366\n",
            "Loss at epoch 88500 is 2.121850164120506\n",
            "Loss at epoch 89000 is 2.12165801036376\n",
            "Loss at epoch 89500 is 2.1214663367083935\n",
            "Loss at epoch 90000 is 2.121275140754272\n",
            "Loss at epoch 90500 is 2.1210844206265196\n",
            "Loss at epoch 91000 is 2.1208941738424882\n",
            "Loss at epoch 91500 is 2.1207043982128013\n",
            "Loss at epoch 92000 is 2.1205150918382913\n",
            "Loss at epoch 92500 is 2.1203262524514987\n",
            "Loss at epoch 93000 is 2.1201378780112203\n",
            "Loss at epoch 93500 is 2.1199499663144974\n",
            "Loss at epoch 94000 is 2.1197625151851227\n",
            "Loss at epoch 94500 is 2.119575522555067\n",
            "Loss at epoch 95000 is 2.119388986485674\n",
            "Loss at epoch 95500 is 2.11920290477073\n",
            "Loss at epoch 96000 is 2.119017275402926\n",
            "Loss at epoch 96500 is 2.118832096243395\n",
            "Loss at epoch 97000 is 2.1186473653053577\n",
            "Loss at epoch 97500 is 2.1184630804981297\n",
            "Loss at epoch 98000 is 2.118279239829289\n",
            "Loss at epoch 98500 is 2.118095841338216\n",
            "Loss at epoch 99000 is 2.1179128828875537\n",
            "Loss at epoch 99500 is 2.1177303625409776\n"
          ],
          "name": "stdout"
        },
        {
          "output_type": "execute_result",
          "data": {
            "text/plain": [
              "111.64180374145508"
            ]
          },
          "metadata": {
            "tags": []
          },
          "execution_count": 103
        }
      ]
    },
    {
      "cell_type": "code",
      "metadata": {
        "colab": {
          "base_uri": "https://localhost:8080/"
        },
        "id": "bu1LAUfy94Ao",
        "outputId": "6b967e79-1a67-4b70-b121-480f3146a476"
      },
      "source": [
        "w_vector"
      ],
      "execution_count": 106,
      "outputs": [
        {
          "output_type": "execute_result",
          "data": {
            "text/plain": [
              "array([ 0.25587642,  0.0005403 , -0.01747734,  0.00187562])"
            ]
          },
          "metadata": {
            "tags": []
          },
          "execution_count": 106
        }
      ]
    },
    {
      "cell_type": "markdown",
      "metadata": {
        "id": "IthtfI7ap5bG"
      },
      "source": [
        "Plot of the loss with epochs"
      ]
    },
    {
      "cell_type": "code",
      "metadata": {
        "colab": {
          "base_uri": "https://localhost:8080/",
          "height": 283
        },
        "id": "vAz7ZS_o-F-u",
        "outputId": "493219e9-d6ca-43d0-8741-6b579b250a05"
      },
      "source": [
        "epochs = range(100000)\r\n",
        "plt.plot(epochs,lossf)"
      ],
      "execution_count": 105,
      "outputs": [
        {
          "output_type": "execute_result",
          "data": {
            "text/plain": [
              "[<matplotlib.lines.Line2D at 0x7f111a5594e0>]"
            ]
          },
          "metadata": {
            "tags": []
          },
          "execution_count": 105
        },
        {
          "output_type": "display_data",
          "data": {
            "image/png": "[encoded data removed]",
            "text/plain": [
              "<Figure size 432x288 with 1 Axes>"
            ]
          },
          "metadata": {
            "tags": [],
            "needs_background": "light"
          }
        }
      ]
    },
    {
      "cell_type": "markdown",
      "metadata": {
        "id": "l5kVoeWSp857"
      },
      "source": [
        "Plotting the function we generated and comparing it with the benchmark sin(x) in green"
      ]
    },
    {
      "cell_type": "code",
      "metadata": {
        "colab": {
          "base_uri": "https://localhost:8080/",
          "height": 283
        },
        "id": "91weXFkV-HD3",
        "outputId": "a3370739-f769-4afd-d673-c74d7107cb60"
      },
      "source": [
        "a = np.linspace(0,10,num=70)\r\n",
        "plt.plot(a,np.sin(a),color='green')\r\n",
        "plt.scatter(x,y,color='black')\r\n",
        "plt.scatter(x,yhat,color='red')\r\n",
        "plt.plot(x,yhat)"
      ],
      "execution_count": 107,
      "outputs": [
        {
          "output_type": "execute_result",
          "data": {
            "text/plain": [
              "[<matplotlib.lines.Line2D at 0x7f111a4ba080>]"
            ]
          },
          "metadata": {
            "tags": []
          },
          "execution_count": 107
        },
        {
          "output_type": "display_data",
          "data": {
            "image/png": "[encoded data removed]",
            "text/plain": [
              "<Figure size 432x288 with 1 Axes>"
            ]
          },
          "metadata": {
            "tags": [],
            "needs_background": "light"
          }
        }
      ]
    },
    {
      "cell_type": "markdown",
      "metadata": {
        "id": "_InHKVbRv4Vh"
      },
      "source": [
        "With a higher degree polynomial and more data, we can obtain a better curve. But the obtained blue curve has behaviour like sin(x), only that the crests and troughs are much smaller "
      ]
    },
    {
      "cell_type": "markdown",
      "metadata": {
        "id": "BWFwYjDpqJG-"
      },
      "source": [
        "Now, we will try out for the 2nd loss function. We need a lot more epochs here"
      ]
    },
    {
      "cell_type": "code",
      "metadata": {
        "colab": {
          "base_uri": "https://localhost:8080/"
        },
        "id": "rOmmBQ_LZplW",
        "outputId": "4e45f602-d294-47c0-d1b1-4ae7e15a312a"
      },
      "source": [
        "t=time.time()\r\n",
        "w_vector = np.random.randn(4)\r\n",
        "print(w_vector)\r\n",
        "time.time()-t"
      ],
      "execution_count": 79,
      "outputs": [
        {
          "output_type": "stream",
          "text": [
            "[ 0.94427656 -0.85333441 -0.87423354 -0.78915447]\n"
          ],
          "name": "stdout"
        },
        {
          "output_type": "execute_result",
          "data": {
            "text/plain": [
              "0.0023546218872070312"
            ]
          },
          "metadata": {
            "tags": []
          },
          "execution_count": 79
        }
      ]
    },
    {
      "cell_type": "code",
      "metadata": {
        "colab": {
          "base_uri": "https://localhost:8080/"
        },
        "id": "zlcwogfSXvI_",
        "outputId": "cd517940-96c7-430f-a134-6890809e7e8d"
      },
      "source": [
        "t=time.time()\r\n",
        "print(lossmod(y,x,w_vector))\r\n",
        "yhat = []\r\n",
        "lossf = []\r\n",
        "#finding gradient wrt w[0]\r\n",
        "for i in range(50000):\r\n",
        "  #g4,yhat = grad2(loss,w_vector,x,y,0.0000000001,4)\r\n",
        "  g3,yhat = grad2(lossmod,w_vector,x,y,0.0000000001,3)\r\n",
        "  g2,yhat = grad2(lossmod,w_vector,x,y,0.0000000001,2)\r\n",
        "  g1,yhat = grad2(lossmod,w_vector,x,y,0.0000000001,1)\r\n",
        "  g0,yhat = grad2(lossmod,w_vector,x,y,0.0000000001,0)\r\n",
        "  #for j in range(6):\r\n",
        "  #  w_vector[j]-=0.1\r\n",
        "  \r\n",
        "  #w_vector[4]-=1e-8*g4\r\n",
        "  #print(\"w[4] {}\".format(w_vector[4]))\r\n",
        "  w_vector[3]-=1e-7*g3\r\n",
        "  #print(\"w[3] {}\".format(w_vector[3]))\r\n",
        "  w_vector[2]-=1e-7*g2\r\n",
        "  #print(\"w[2] {}\".format(w_vector[2]))\r\n",
        "  w_vector[1]-=1e-7*g1\r\n",
        "  #print(\"w[1] {}\".format(w_vector[1]))\r\n",
        "  w_vector[0]-=1e-7*g0\r\n",
        "  #print(\"w[0] {}\".format(w_vector[0]))\r\n",
        "  #print(yhat)\r\n",
        "  l,_ = lossmod(y,x,w_vector)\r\n",
        "  lossf.append(l)\r\n",
        "  if i%1000 == 0:\r\n",
        "    print(\"Loss at epoch {} is {}\".format(i,l))\r\n",
        "\r\n",
        "time.time()-t"
      ],
      "execution_count": 85,
      "outputs": [
        {
          "output_type": "stream",
          "text": [
            "(13.596211855132804, [0.9848566632356572, 0.7314485213544497, 0.5090727078938655, 0.31867891868150156, 0.16121684954495452, 0.037636196311821093, -0.05111334519030211, -0.10408207913381831, -0.1203203096911307, -0.09887834103464273, -0.03880647733675783, 0.06084497723012107, 0.20102571849359074, 0.38268544228124673, 0.6067738444206875, 0.8742406207395084, 1.1860354670653066, 1.543108079225679, 1.946408153048222, 2.3968853843605324])\n",
            "Loss at epoch 0 is 12.816367065972468\n",
            "Loss at epoch 1000 is 11.234621843401785\n",
            "Loss at epoch 2000 is 11.206866355482791\n",
            "Loss at epoch 3000 is 11.20911901497326\n",
            "Loss at epoch 4000 is 11.20856516472299\n",
            "Loss at epoch 5000 is 11.208011362516343\n",
            "Loss at epoch 6000 is 11.210264023802251\n",
            "Loss at epoch 7000 is 11.207546590728573\n",
            "Loss at epoch 8000 is 11.207635623172374\n",
            "Loss at epoch 9000 is 11.20952897304841\n",
            "Loss at epoch 10000 is 11.209133546716473\n",
            "Loss at epoch 11000 is 11.208738132298864\n",
            "Loss at epoch 12000 is 11.206392090932214\n",
            "Loss at epoch 13000 is 11.205996669151588\n",
            "Loss at epoch 14000 is 11.203650624241662\n",
            "Loss at epoch 15000 is 11.205205822253985\n",
            "Loss at epoch 16000 is 11.20285979323479\n",
            "Loss at epoch 17000 is 11.202464378251186\n",
            "Loss at epoch 18000 is 11.206362868940449\n",
            "Loss at epoch 19000 is 11.206451914945882\n",
            "Loss at epoch 20000 is 11.205924603718927\n",
            "Loss at epoch 21000 is 11.205529173279867\n",
            "Loss at epoch 22000 is 11.205133754931273\n",
            "Loss at epoch 23000 is 11.202787722075737\n",
            "Loss at epoch 24000 is 11.202392294186266\n",
            "Loss at epoch 25000 is 11.201996866321977\n",
            "Loss at epoch 26000 is 11.19971783556191\n",
            "Loss at epoch 27000 is 11.199387953171993\n",
            "Loss at epoch 28000 is 11.19983530439\n",
            "Loss at epoch 29000 is 11.20237264059175\n",
            "Loss at epoch 30000 is 11.202461739660793\n",
            "Loss at epoch 31000 is 11.203295530988596\n",
            "Loss at epoch 32000 is 11.202900104331867\n",
            "Loss at epoch 33000 is 11.20055407041617\n",
            "Loss at epoch 34000 is 11.200158652938079\n",
            "Loss at epoch 35000 is 11.199763224331539\n",
            "Loss at epoch 36000 is 11.197417185618134\n",
            "Loss at epoch 37000 is 11.197021770894295\n",
            "Loss at epoch 38000 is 11.201010805266478\n",
            "Loss at epoch 39000 is 11.196232645143539\n",
            "Loss at epoch 40000 is 11.201189020605172\n",
            "Loss at epoch 41000 is 11.198471595786021\n",
            "Loss at epoch 42000 is 11.199691139773112\n",
            "Loss at epoch 43000 is 11.20027103071707\n",
            "Loss at epoch 44000 is 11.19694969512383\n",
            "Loss at epoch 45000 is 11.197529572932979\n",
            "Loss at epoch 46000 is 11.194294486932066\n",
            "Loss at epoch 47000 is 11.19478811672355\n",
            "Loss at epoch 48000 is 11.19439268723631\n",
            "Loss at epoch 49000 is 11.194214172075409\n"
          ],
          "name": "stdout"
        },
        {
          "output_type": "execute_result",
          "data": {
            "text/plain": [
              "54.576741456985474"
            ]
          },
          "metadata": {
            "tags": []
          },
          "execution_count": 85
        }
      ]
    },
    {
      "cell_type": "markdown",
      "metadata": {
        "id": "t04YSY3UqdaR"
      },
      "source": [
        "Plotting the function we generated"
      ]
    },
    {
      "cell_type": "code",
      "metadata": {
        "colab": {
          "base_uri": "https://localhost:8080/",
          "height": 283
        },
        "id": "2pr0SKT1M1wu",
        "outputId": "949b43e1-de6a-43a1-90a2-78e672921d0c"
      },
      "source": [
        "a = np.linspace(0,10,num=70)\r\n",
        "plt.plot(a,np.sin(a),color='green')\r\n",
        "plt.scatter(x,y,color='black')\r\n",
        "plt.scatter(x,yhat,color='red')\r\n",
        "plt.plot(x,yhat)"
      ],
      "execution_count": 86,
      "outputs": [
        {
          "output_type": "execute_result",
          "data": {
            "text/plain": [
              "[<matplotlib.lines.Line2D at 0x7f111acf4c50>]"
            ]
          },
          "metadata": {
            "tags": []
          },
          "execution_count": 86
        },
        {
          "output_type": "display_data",
          "data": {
            "image/png": "[encoded data removed]",
            "text/plain": [
              "<Figure size 432x288 with 1 Axes>"
            ]
          },
          "metadata": {
            "tags": [],
            "needs_background": "light"
          }
        }
      ]
    },
    {
      "cell_type": "markdown",
      "metadata": {
        "id": "Y6E-6XDLqlB9"
      },
      "source": [
        "---\r\n",
        "With this, we have come to the end of the notebook! Our fitted curve might look to be very different from sin x, but if we compare datapoint for datapoint in blue and black, we see that actually we have done quite well on the dataset with little data. We did better with the Mean Squared error loss function. This means that the Mean Squared error function optimized the problem better  "
      ]
    }
  ]
}