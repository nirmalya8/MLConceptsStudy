{
  "nbformat": 4,
  "nbformat_minor": 0,
  "metadata": {
    "colab": {
      "name": "CurveFitting.ipynb",
      "provenance": [],
      "collapsed_sections": [],
      "authorship_tag": "ABX9TyO077DNQPtEymz+c4/CKh2C",
      "include_colab_link": true
    },
    "kernelspec": {
      "name": "python3",
      "display_name": "Python 3"
    }
  },
  "cells": [
    {
      "cell_type": "markdown",
      "metadata": {
        "id": "view-in-github",
        "colab_type": "text"
      },
      "source": [
        "<a href=\"https://colab.research.google.com/github/nirmalya8/MLConceptsStudy/blob/main/CurveFitting.ipynb\" target=\"_parent\"><img src=\"https://colab.research.google.com/assets/colab-badge.svg\" alt=\"Open In Colab\"/></a>"
      ]
    },
    {
      "cell_type": "markdown",
      "metadata": {
        "id": "aZC6Q02mfEC-"
      },
      "source": [
        "In this notebook, we will attempt **Polynomial Curve Fitting**. So, what is Polynomial Curve Fitting ? Basically, we will try to fit a polynomial function into some custom dataset and check the results. We will start by importing some of the required modules."
      ]
    },
    {
      "cell_type": "code",
      "metadata": {
        "id": "0fucR2b7fLxB"
      },
      "source": [
        "import numpy as np\r\n",
        "import matplotlib.pyplot as plt\r\n",
        "import math"
      ],
      "execution_count": 1,
      "outputs": []
    },
    {
      "cell_type": "markdown",
      "metadata": {
        "id": "o4do60dLfebu"
      },
      "source": [
        "**DATASET CREATION**\r\n",
        "\r\n",
        "Firstly, we have to create a dataset on which we want to fit the polynomial. We have chosen the **sine** function as the basis of the dataset. Now, we want to create a dataset, which will be well approximated by the sine function. For that purpose, it makes sense to add some random noise to the values given by the sine function. This will make our dataset somewhat different from the sine function but the sine function will be able to approximate the dataset very well. \r\n",
        "\r\n",
        "Hence, we can consider the sine function to be the benchmark we want to attain with our polynomial.  "
      ]
    },
    {
      "cell_type": "code",
      "metadata": {
        "id": "lVhy8mw4fdca"
      },
      "source": [
        "def func(x):\r\n",
        "  return np.sin(x)"
      ],
      "execution_count": 2,
      "outputs": []
    },
    {
      "cell_type": "code",
      "metadata": {
        "id": "0BEEU8zzgUiV"
      },
      "source": [
        "def create_dataset(n):\r\n",
        "  x = np.linspace(0,10,num=n)\r\n",
        "  y = func(x)+np.random.randn(n)*0.1\r\n",
        "  return x,y"
      ],
      "execution_count": 6,
      "outputs": []
    },
    {
      "cell_type": "code",
      "metadata": {
        "colab": {
          "base_uri": "https://localhost:8080/",
          "height": 283
        },
        "id": "XkJMquhvguhH",
        "outputId": "98fa205a-8bbe-44ab-9eda-b9830f4f52fa"
      },
      "source": [
        "x,y = create_dataset(20)\r\n",
        "plt.scatter(x,y)"
      ],
      "execution_count": 33,
      "outputs": [
        {
          "output_type": "execute_result",
          "data": {
            "text/plain": [
              "<matplotlib.collections.PathCollection at 0x7f111b71b9b0>"
            ]
          },
          "metadata": {
            "tags": []
          },
          "execution_count": 33
        },
        {
          "output_type": "display_data",
          "data": {
            "image/png": "[encoded data removed]",
            "text/plain": [
              "<Figure size 432x288 with 1 Axes>"
            ]
          },
          "metadata": {
            "tags": [],
            "needs_background": "light"
          }
        }
      ]
    },
    {
      "cell_type": "markdown",
      "metadata": {
        "id": "v2iOg1U4gwr2"
      },
      "source": [
        "The above plot represent a scatter plot of the points of our dataset. The plot below is the same as above, only the sine function is plotted in green. So, we can see that the sine function generalizes the dataset quite well."
      ]
    },
    {
      "cell_type": "code",
      "metadata": {
        "colab": {
          "base_uri": "https://localhost:8080/",
          "height": 283
        },
        "id": "R4EV4MMGhYKT",
        "outputId": "9084b78c-5a96-4745-f1d2-3d7519e7e506"
      },
      "source": [
        "a = np.linspace(0,10,num=70)\r\n",
        "plt.plot(a,np.sin(a),color='green')\r\n",
        "plt.scatter(x,y)"
      ],
      "execution_count": 34,
      "outputs": [
        {
          "output_type": "execute_result",
          "data": {
            "text/plain": [
              "<matplotlib.collections.PathCollection at 0x7f111b9483c8>"
            ]
          },
          "metadata": {
            "tags": []
          },
          "execution_count": 34
        },
        {
          "output_type": "display_data",
          "data": {
            "image/png": "[encoded data removed]",
            "text/plain": [
              "<Figure size 432x288 with 1 Axes>"
            ]
          },
          "metadata": {
            "tags": [],
            "needs_background": "light"
          }
        }
      ]
    },
    {
      "cell_type": "markdown",
      "metadata": {
        "id": "mXEfRRPohv4l"
      },
      "source": [
        "---\r\n",
        "\r\n",
        "So, let us first define the problem. We want to fit the sine curve with a polynomial of degree n. The polynomial will be of the form - \r\n",
        "\r\n",
        "$$ y = w_0 x^0+w_1x^1+w_2x^2+\\dots+w_nx^n $$\r\n",
        "\r\n",
        "This can also be written as :\r\n",
        "\r\n",
        "$$ y = \\sum_{i=0}^{n} {w_ix^i}$$\r\n",
        "\r\n",
        "If we dive deeper into the Mathematics, we find that this can be represented as:\r\n",
        "\r\n",
        "$$ w =  \\begin {bmatrix}\r\n",
        "w_1 \\\\ \r\n",
        "w_2 \\\\\r\n",
        "w_3 \\\\\r\n",
        "\\vdots \\\\\r\n",
        "\r\n",
        "w_n\r\n",
        " \\end {bmatrix} \r\n",
        " \r\n",
        " x = \\begin {bmatrix}\r\n",
        "x \\\\ \r\n",
        "x^2 \\\\\r\n",
        "x^3 \\\\\r\n",
        "\\vdots \\\\\r\n",
        "\r\n",
        "x^n\r\n",
        " \\end {bmatrix}\r\n",
        " \r\n",
        " $$\r\n",
        "\r\n",
        "So, y can be written as\r\n",
        "\r\n",
        "$$ y = w^Tx   $$\r\n",
        "\r\n",
        "$$ y =   \\begin {bmatrix}\r\n",
        "w_1  \\   \r\n",
        "w_2   \\\r\n",
        "w_3   \\\r\n",
        "\\dots  \\ \r\n",
        "\r\n",
        "w_n \\\r\n",
        " \\end {bmatrix} \r\n",
        " \r\n",
        " \\begin {bmatrix}\r\n",
        "x \\\\ \r\n",
        "x^2 \\\\\r\n",
        "x^3 \\\\\r\n",
        "\\vdots \\\\\r\n",
        "\r\n",
        "x^n\r\n",
        " \\end {bmatrix}  + w_0$$\r\n",
        "\r\n",
        "We will apply the final equation, taking the values of w and powers of x to find an output.\r\n",
        "\r\n",
        "\r\n",
        "\r\n",
        "---"
      ]
    },
    {
      "cell_type": "markdown",
      "metadata": {
        "id": "Ml22Jyf9n7HO"
      },
      "source": [
        "\r\n",
        "\r\n",
        "Now that we have created the dataset, it makes sense for us to create a few helper functions. First we create a **predict function** . This function will take in the input value and the weights and give a prediction. "
      ]
    },
    {
      "cell_type": "code",
      "metadata": {
        "id": "dnz3m0hllAwy"
      },
      "source": [
        "def predict(x,w):\r\n",
        "  x_v = [x**i for i in range(len(w))]\r\n",
        "  return np.dot(x_v,w) "
      ],
      "execution_count": 9,
      "outputs": []
    },
    {
      "cell_type": "markdown",
      "metadata": {
        "id": "bI8UxdIwkcBt"
      },
      "source": [
        "As we are trying to fit a curve based on a dataset, it becomes very important which **loss function** we choose. Here, I have trained the models for different loss functions and found that two functions optimize the problem very well:\r\n",
        "1. The Mean Squared Error function\r\n",
        "\r\n",
        "$$ Error(x,y,w) = Mean\\ (Predicted\\ value - Actual\\ Value )^2 $$\r\n",
        "2. The Total Absolute Error function\r\n",
        "\r\n",
        "$$ Error(x,y,w) = Sum\\ |Predicted\\ value - Actual\\ Value | $$"
      ]
    },
    {
      "cell_type": "code",
      "metadata": {
        "id": "HmjoxNa-pzDt"
      },
      "source": [
        "def loss(y,x,w):\r\n",
        "  yhat = [predict(x,w) for x in x]\r\n",
        "  l = sum((y-yhat)**2) / len(w)\r\n",
        "  return l,yhat"
      ],
      "execution_count": 10,
      "outputs": []
    },
    {
      "cell_type": "code",
      "metadata": {
        "id": "ouq-bXqdXkok"
      },
      "source": [
        "def lossmod(y,x,w):\r\n",
        "  yhat = [predict(x,w) for x in x]\r\n",
        "  l = np.sum(np.abs((y-yhat)))\r\n",
        "  return l,yhat"
      ],
      "execution_count": 50,
      "outputs": []
    },
    {
      "cell_type": "markdown",
      "metadata": {
        "id": "kdboLRoDnfBH"
      },
      "source": [
        "---\r\n",
        "Now that we have created the dataset and defined the loss functions, we can now move into optimization. We will use the **Gradient Descent Optimizer** here.\r\n",
        "\r\n",
        "<img src = \"/content/grad_desc.jpeg\" >"
      ]
    },
    {
      "cell_type": "markdown",
      "metadata": {
        "id": "G4EO9Q2bpMPq"
      },
      "source": [
        "As we are doing everything from scratch, I have also written the derivative calculator as **grad2** . It computes gradient based on:\r\n",
        "$$ \\frac {d f(a)}{dh} =   \\lim_{h\\to0} \\left[\\frac {f(a+h)-f(a)}{h} \\right]  $$\r\n",
        "\r\n",
        "It takes the loss function, weight vector, x, y values, the value h which is near 0 and finally val. Val is basically the index of the weight matrix, on the basis of which we want to calculate the derivative."
      ]
    },
    {
      "cell_type": "code",
      "metadata": {
        "id": "R0VFQyFRpLjt"
      },
      "source": [
        "def grad2(f,w,x,y,h,val):\r\n",
        "  b,yhat = f(y,x,w)\r\n",
        "  w[val]+=h\r\n",
        "  a,yhat = f(y,x,w)\r\n",
        "  g = (a-b)/h\r\n",
        "  return g,yhat"
      ],
      "execution_count": 11,
      "outputs": []
    },
    {
      "cell_type": "markdown",
      "metadata": {
        "id": "6BcvU0hZnlZw"
      },
      "source": [
        "---\r\n",
        "\r\n",
        "**GRADIENT DESCENT BEGINS**"
      ]
    },
    {
      "cell_type": "code",
      "metadata": {
        "id": "Yxou3h5OFHhc"
      },
      "source": [
        "import time"
      ],
      "execution_count": 12,
      "outputs": []
    },
    {
      "cell_type": "markdown",
      "metadata": {
        "id": "sH2ErdadpCEi"
      },
      "source": [
        "Initializing the weights matrix with 4 numbers, as we want to fit a 3degree polynomial."
      ]
    },
    {
      "cell_type": "code",
      "metadata": {
        "id": "nfRudgApxk5N",
        "colab": {
          "base_uri": "https://localhost:8080/"
        },
        "outputId": "4dcf9bb3-e43e-41a2-d0ee-af49035272c8"
      },
      "source": [
        "t=time.time()\r\n",
        "w_vector = np.random.randn(4)\r\n",
        "print(w_vector)\r\n",
        "time.time()-t"
      ],
      "execution_count": 90,
      "outputs": [
        {
          "output_type": "stream",
          "text": [
            "[ 1.02394368 -0.20008225 -0.55863091 -1.29927417]\n"
          ],
          "name": "stdout"
        },
        {
          "output_type": "execute_result",
          "data": {
            "text/plain": [
              "0.0006554126739501953"
            ]
          },
          "metadata": {
            "tags": []
          },
          "execution_count": 90
        }
      ]
    },
    {
      "cell_type": "code",
      "metadata": {
        "colab": {
          "base_uri": "https://localhost:8080/"
        },
        "id": "9SBfCFxQWT-F",
        "outputId": "a11d2f2e-71ee-4f9a-de10-27c6f3907cbb"
      },
      "source": [
        "x,y"
      ],
      "execution_count": 39,
      "outputs": [
        {
          "output_type": "execute_result",
          "data": {
            "text/plain": [
              "(array([ 0.        ,  0.52631579,  1.05263158,  1.57894737,  2.10526316,\n",
              "         2.63157895,  3.15789474,  3.68421053,  4.21052632,  4.73684211,\n",
              "         5.26315789,  5.78947368,  6.31578947,  6.84210526,  7.36842105,\n",
              "         7.89473684,  8.42105263,  8.94736842,  9.47368421, 10.        ]),\n",
              " array([-0.14576443,  0.5313364 ,  0.86794659,  0.83164785,  0.80514719,\n",
              "         0.72685062, -0.07161753, -0.46227308, -0.84263437, -0.85228129,\n",
              "        -0.87175577, -0.44268354, -0.09424213,  0.45647095,  0.86066241,\n",
              "         1.01403879,  0.97587676,  0.63928394, -0.07575216, -0.57383243]))"
            ]
          },
          "metadata": {
            "tags": []
          },
          "execution_count": 39
        }
      ]
    },
    {
      "cell_type": "markdown",
      "metadata": {
        "id": "PwQvwx4p0HAL"
      },
      "source": [
        "Hard coding gradient descent for 50,000 epochs "
      ]
    },
    {
      "cell_type": "code",
      "metadata": {
        "colab": {
          "base_uri": "https://localhost:8080/"
        },
        "id": "oWCvNZ-VqMsB",
        "outputId": "74f61c05-a6f9-41da-d7fc-9af0530f2f9a"
      },
      "source": [
        "t=time.time()\r\n",
        "print(loss(y,x,w_vector))\r\n",
        "yhat = []\r\n",
        "lossf = []\r\n",
        "#finding gradient wrt w[0]\r\n",
        "for i in range(50000):\r\n",
        "  #g4,yhat = grad2(loss,w_vector,x,y,0.0000000001,4)\r\n",
        "  g3,yhat = grad2(loss,w_vector,x,y,0.0000000001,3)\r\n",
        "  g2,yhat = grad2(loss,w_vector,x,y,0.0000000001,2)\r\n",
        "  g1,yhat = grad2(loss,w_vector,x,y,0.0000000001,1)\r\n",
        "  g0,yhat = grad2(loss,w_vector,x,y,0.0000000001,0)\r\n",
        "  #for j in range(6):\r\n",
        "  #  w_vector[j]-=0.1\r\n",
        "  \r\n",
        "  #w_vector[4]-=1e-8*g4\r\n",
        "  #print(\"w[4] {}\".format(w_vector[4]))\r\n",
        "  w_vector[3]-=1e-6*g3\r\n",
        "  #print(\"w[3] {}\".format(w_vector[3]))\r\n",
        "  w_vector[2]-=1e-6*g2\r\n",
        "  #print(\"w[2] {}\".format(w_vector[2]))\r\n",
        "  w_vector[1]-=1e-6*g1\r\n",
        "  #print(\"w[1] {}\".format(w_vector[1]))\r\n",
        "  w_vector[0]-=1e-6*g0\r\n",
        "  #print(\"w[0] {}\".format(w_vector[0]))\r\n",
        "  #print(yhat)\r\n",
        "  l,_ = loss(y,x,w_vector)\r\n",
        "  lossf.append(l)\r\n",
        "  if(i%500 == 0):\r\n",
        "    print(\"Loss at epoch {} is {}\".format(i,l))\r\n",
        "\r\n",
        "time.time()-t"
      ],
      "execution_count": 91,
      "outputs": [
        {
          "output_type": "stream",
          "text": [
            "(1507741.3834124012, [1.023943679558207, 0.5744656469915569, -1.3210602702944412, -5.799191150211155, -13.996484070669949, -27.049496109582183, -46.09478434485926, -72.26890585441248, -106.70841771615328, -150.54987700799296, -204.9298408078429, -270.98486619361455, -349.8515102432193, -442.6663300345683, -550.565882645573, -674.6867251541449, -816.1654146381953, -976.1385081756357, -1155.7425628443768, -1356.1141357223312])\n",
            "Loss at epoch 0 is 620656.8656332653\n",
            "Loss at epoch 500 is 25.937873770971116\n",
            "Loss at epoch 1000 is 14.932173286678534\n",
            "Loss at epoch 1500 is 9.136403366859678\n",
            "Loss at epoch 2000 is 6.083367321607256\n",
            "Loss at epoch 2500 is 4.474229977274046\n",
            "Loss at epoch 3000 is 3.625230559445443\n",
            "Loss at epoch 3500 is 3.1764088148699265\n",
            "Loss at epoch 4000 is 2.938266782096315\n",
            "Loss at epoch 4500 is 2.811044813355225\n",
            "Loss at epoch 5000 is 2.7422252556460345\n",
            "Loss at epoch 5500 is 2.7041605876640027\n",
            "Loss at epoch 6000 is 2.682295973581095\n",
            "Loss at epoch 6500 is 2.6689690992681876\n",
            "Loss at epoch 7000 is 2.6601461611685373\n",
            "Loss at epoch 7500 is 2.6537035539311953\n",
            "Loss at epoch 8000 is 2.6485232786873154\n",
            "Loss at epoch 8500 is 2.644016729638584\n",
            "Loss at epoch 9000 is 2.639873994405069\n",
            "Loss at epoch 9500 is 2.635931877129046\n",
            "Loss at epoch 10000 is 2.632104418288559\n",
            "Loss at epoch 10500 is 2.628346319594353\n",
            "Loss at epoch 11000 is 2.624633689356016\n",
            "Loss at epoch 11500 is 2.620953902408224\n",
            "Loss at epoch 12000 is 2.617300268198328\n",
            "Loss at epoch 12500 is 2.613669217772584\n",
            "Loss at epoch 13000 is 2.6100588286338757\n",
            "Loss at epoch 13500 is 2.60646804314432\n",
            "Loss at epoch 14000 is 2.602896259111939\n",
            "Loss at epoch 14500 is 2.5993431154639595\n",
            "Loss at epoch 15000 is 2.595808377326005\n",
            "Loss at epoch 15500 is 2.592291876676856\n",
            "Loss at epoch 16000 is 2.5887934818646685\n",
            "Loss at epoch 16500 is 2.585313079319739\n",
            "Loss at epoch 17000 is 2.5818505656774056\n",
            "Loss at epoch 17500 is 2.5784058436989556\n",
            "Loss at epoch 18000 is 2.574978819155689\n",
            "Loss at epoch 18500 is 2.5715693985123034\n",
            "Loss at epoch 19000 is 2.568177491212567\n",
            "Loss at epoch 19500 is 2.5648030064969447\n",
            "Loss at epoch 20000 is 2.561445854118983\n",
            "Loss at epoch 20500 is 2.558105945374622\n",
            "Loss at epoch 21000 is 2.554783190768047\n",
            "Loss at epoch 21500 is 2.5514775020977702\n",
            "Loss at epoch 22000 is 2.548188791809289\n",
            "Loss at epoch 22500 is 2.5449169727184007\n",
            "Loss at epoch 23000 is 2.5416619575916215\n",
            "Loss at epoch 23500 is 2.5384236599257877\n",
            "Loss at epoch 24000 is 2.5352019940783466\n",
            "Loss at epoch 24500 is 2.531996873923742\n",
            "Loss at epoch 25000 is 2.528808214852246\n",
            "Loss at epoch 25500 is 2.525635931803695\n",
            "Loss at epoch 26000 is 2.522479940478691\n",
            "Loss at epoch 26500 is 2.5193401572511145\n",
            "Loss at epoch 27000 is 2.516216498363388\n",
            "Loss at epoch 27500 is 2.5131088811772795\n",
            "Loss at epoch 28000 is 2.510017223370657\n",
            "Loss at epoch 28500 is 2.506941442626429\n",
            "Loss at epoch 29000 is 2.503881457337837\n",
            "Loss at epoch 29500 is 2.5008371858026015\n",
            "Loss at epoch 30000 is 2.4978085474848895\n",
            "Loss at epoch 30500 is 2.494795462157164\n",
            "Loss at epoch 31000 is 2.4917978494591333\n",
            "Loss at epoch 31500 is 2.4888156303583857\n",
            "Loss at epoch 32000 is 2.4858487245820298\n",
            "Loss at epoch 32500 is 2.4828970541187383\n",
            "Loss at epoch 33000 is 2.479960540607204\n",
            "Loss at epoch 33500 is 2.4770391056198093\n",
            "Loss at epoch 34000 is 2.4741326714415472\n",
            "Loss at epoch 34500 is 2.471241161863951\n",
            "Loss at epoch 35000 is 2.4683644994630125\n",
            "Loss at epoch 35500 is 2.465502607159279\n",
            "Loss at epoch 36000 is 2.462655409652045\n",
            "Loss at epoch 36500 is 2.4598228318368305\n",
            "Loss at epoch 37000 is 2.457004798020115\n",
            "Loss at epoch 37500 is 2.454201233188656\n",
            "Loss at epoch 38000 is 2.4514120629974556\n",
            "Loss at epoch 38500 is 2.448637213525267\n",
            "Loss at epoch 39000 is 2.4458766107873995\n",
            "Loss at epoch 39500 is 2.443130181653334\n",
            "Loss at epoch 40000 is 2.440397852873208\n",
            "Loss at epoch 40500 is 2.4376795523965145\n",
            "Loss at epoch 41000 is 2.4349752077327635\n",
            "Loss at epoch 41500 is 2.4322847473133287\n",
            "Loss at epoch 42000 is 2.4296080996740095\n",
            "Loss at epoch 42500 is 2.426945193942968\n",
            "Loss at epoch 43000 is 2.4242959590504536\n",
            "Loss at epoch 43500 is 2.421660324315064\n",
            "Loss at epoch 44000 is 2.4190382203552265\n",
            "Loss at epoch 44500 is 2.4164295776510576\n",
            "Loss at epoch 45000 is 2.4138343265548388\n",
            "Loss at epoch 45500 is 2.4112523982225036\n",
            "Loss at epoch 46000 is 2.408683724052274\n",
            "Loss at epoch 46500 is 2.406128235832801\n",
            "Loss at epoch 47000 is 2.4035858659545304\n",
            "Loss at epoch 47500 is 2.401056547056576\n",
            "Loss at epoch 48000 is 2.398540211112654\n",
            "Loss at epoch 48500 is 2.3960367925543973\n",
            "Loss at epoch 49000 is 2.3935462240765024\n",
            "Loss at epoch 49500 is 2.3910684396883477\n"
          ],
          "name": "stdout"
        },
        {
          "output_type": "execute_result",
          "data": {
            "text/plain": [
              "54.79805374145508"
            ]
          },
          "metadata": {
            "tags": []
          },
          "execution_count": 91
        }
      ]
    },
    {
      "cell_type": "code",
      "metadata": {
        "colab": {
          "base_uri": "https://localhost:8080/"
        },
        "id": "bu1LAUfy94Ao",
        "outputId": "e5f9a166-9b43-46ad-a980-2dfefbf20f22"
      },
      "source": [
        "w_vector"
      ],
      "execution_count": 15,
      "outputs": [
        {
          "output_type": "execute_result",
          "data": {
            "text/plain": [
              "array([ 1.59734985, -1.30285796,  0.2641365 , -0.01507823])"
            ]
          },
          "metadata": {
            "tags": []
          },
          "execution_count": 15
        }
      ]
    },
    {
      "cell_type": "markdown",
      "metadata": {
        "id": "IthtfI7ap5bG"
      },
      "source": [
        "Plot of the loss with epochs"
      ]
    },
    {
      "cell_type": "code",
      "metadata": {
        "colab": {
          "base_uri": "https://localhost:8080/",
          "height": 283
        },
        "id": "vAz7ZS_o-F-u",
        "outputId": "e6fbb6a6-ed72-429a-bd6d-1f1aa88f7a04"
      },
      "source": [
        "epochs = range(50000)\r\n",
        "plt.plot(epochs,lossf)"
      ],
      "execution_count": 93,
      "outputs": [
        {
          "output_type": "execute_result",
          "data": {
            "text/plain": [
              "[<matplotlib.lines.Line2D at 0x7f111b091eb8>]"
            ]
          },
          "metadata": {
            "tags": []
          },
          "execution_count": 93
        },
        {
          "output_type": "display_data",
          "data": {
            "image/png": "[encoded data removed]",
            "text/plain": [
              "<Figure size 432x288 with 1 Axes>"
            ]
          },
          "metadata": {
            "tags": [],
            "needs_background": "light"
          }
        }
      ]
    },
    {
      "cell_type": "markdown",
      "metadata": {
        "id": "l5kVoeWSp857"
      },
      "source": [
        "Plotting the function we generated and comparing it with the benchmark sin(x) in green"
      ]
    },
    {
      "cell_type": "code",
      "metadata": {
        "colab": {
          "base_uri": "https://localhost:8080/",
          "height": 283
        },
        "id": "91weXFkV-HD3",
        "outputId": "62d2b2f7-0a05-48e4-b8a2-2d0a3eabcb05"
      },
      "source": [
        "a = np.linspace(0,10,num=70)\r\n",
        "plt.plot(a,np.sin(a),color='green')\r\n",
        "plt.scatter(x,y,color='black')\r\n",
        "plt.scatter(x,yhat,color='red')\r\n",
        "plt.plot(x,yhat)"
      ],
      "execution_count": 94,
      "outputs": [
        {
          "output_type": "execute_result",
          "data": {
            "text/plain": [
              "[<matplotlib.lines.Line2D at 0x7f111a958320>]"
            ]
          },
          "metadata": {
            "tags": []
          },
          "execution_count": 94
        },
        {
          "output_type": "display_data",
          "data": {
            "image/png": "[encoded data removed]",
            "text/plain": [
              "<Figure size 432x288 with 1 Axes>"
            ]
          },
          "metadata": {
            "tags": [],
            "needs_background": "light"
          }
        }
      ]
    },
    {
      "cell_type": "markdown",
      "metadata": {
        "id": "BWFwYjDpqJG-"
      },
      "source": [
        "Now, we will try out for the 2nd loss function. We need a lot more epochs here"
      ]
    },
    {
      "cell_type": "code",
      "metadata": {
        "colab": {
          "base_uri": "https://localhost:8080/"
        },
        "id": "rOmmBQ_LZplW",
        "outputId": "4e45f602-d294-47c0-d1b1-4ae7e15a312a"
      },
      "source": [
        "t=time.time()\r\n",
        "w_vector = np.random.randn(4)\r\n",
        "print(w_vector)\r\n",
        "time.time()-t"
      ],
      "execution_count": 79,
      "outputs": [
        {
          "output_type": "stream",
          "text": [
            "[ 0.94427656 -0.85333441 -0.87423354 -0.78915447]\n"
          ],
          "name": "stdout"
        },
        {
          "output_type": "execute_result",
          "data": {
            "text/plain": [
              "0.0023546218872070312"
            ]
          },
          "metadata": {
            "tags": []
          },
          "execution_count": 79
        }
      ]
    },
    {
      "cell_type": "code",
      "metadata": {
        "colab": {
          "base_uri": "https://localhost:8080/"
        },
        "id": "zlcwogfSXvI_",
        "outputId": "cd517940-96c7-430f-a134-6890809e7e8d"
      },
      "source": [
        "t=time.time()\r\n",
        "print(lossmod(y,x,w_vector))\r\n",
        "yhat = []\r\n",
        "lossf = []\r\n",
        "#finding gradient wrt w[0]\r\n",
        "for i in range(50000):\r\n",
        "  #g4,yhat = grad2(loss,w_vector,x,y,0.0000000001,4)\r\n",
        "  g3,yhat = grad2(lossmod,w_vector,x,y,0.0000000001,3)\r\n",
        "  g2,yhat = grad2(lossmod,w_vector,x,y,0.0000000001,2)\r\n",
        "  g1,yhat = grad2(lossmod,w_vector,x,y,0.0000000001,1)\r\n",
        "  g0,yhat = grad2(lossmod,w_vector,x,y,0.0000000001,0)\r\n",
        "  #for j in range(6):\r\n",
        "  #  w_vector[j]-=0.1\r\n",
        "  \r\n",
        "  #w_vector[4]-=1e-8*g4\r\n",
        "  #print(\"w[4] {}\".format(w_vector[4]))\r\n",
        "  w_vector[3]-=1e-7*g3\r\n",
        "  #print(\"w[3] {}\".format(w_vector[3]))\r\n",
        "  w_vector[2]-=1e-7*g2\r\n",
        "  #print(\"w[2] {}\".format(w_vector[2]))\r\n",
        "  w_vector[1]-=1e-7*g1\r\n",
        "  #print(\"w[1] {}\".format(w_vector[1]))\r\n",
        "  w_vector[0]-=1e-7*g0\r\n",
        "  #print(\"w[0] {}\".format(w_vector[0]))\r\n",
        "  #print(yhat)\r\n",
        "  l,_ = lossmod(y,x,w_vector)\r\n",
        "  lossf.append(l)\r\n",
        "  if i%1000 == 0:\r\n",
        "    print(\"Loss at epoch {} is {}\".format(i,l))\r\n",
        "\r\n",
        "time.time()-t"
      ],
      "execution_count": 85,
      "outputs": [
        {
          "output_type": "stream",
          "text": [
            "(13.596211855132804, [0.9848566632356572, 0.7314485213544497, 0.5090727078938655, 0.31867891868150156, 0.16121684954495452, 0.037636196311821093, -0.05111334519030211, -0.10408207913381831, -0.1203203096911307, -0.09887834103464273, -0.03880647733675783, 0.06084497723012107, 0.20102571849359074, 0.38268544228124673, 0.6067738444206875, 0.8742406207395084, 1.1860354670653066, 1.543108079225679, 1.946408153048222, 2.3968853843605324])\n",
            "Loss at epoch 0 is 12.816367065972468\n",
            "Loss at epoch 1000 is 11.234621843401785\n",
            "Loss at epoch 2000 is 11.206866355482791\n",
            "Loss at epoch 3000 is 11.20911901497326\n",
            "Loss at epoch 4000 is 11.20856516472299\n",
            "Loss at epoch 5000 is 11.208011362516343\n",
            "Loss at epoch 6000 is 11.210264023802251\n",
            "Loss at epoch 7000 is 11.207546590728573\n",
            "Loss at epoch 8000 is 11.207635623172374\n",
            "Loss at epoch 9000 is 11.20952897304841\n",
            "Loss at epoch 10000 is 11.209133546716473\n",
            "Loss at epoch 11000 is 11.208738132298864\n",
            "Loss at epoch 12000 is 11.206392090932214\n",
            "Loss at epoch 13000 is 11.205996669151588\n",
            "Loss at epoch 14000 is 11.203650624241662\n",
            "Loss at epoch 15000 is 11.205205822253985\n",
            "Loss at epoch 16000 is 11.20285979323479\n",
            "Loss at epoch 17000 is 11.202464378251186\n",
            "Loss at epoch 18000 is 11.206362868940449\n",
            "Loss at epoch 19000 is 11.206451914945882\n",
            "Loss at epoch 20000 is 11.205924603718927\n",
            "Loss at epoch 21000 is 11.205529173279867\n",
            "Loss at epoch 22000 is 11.205133754931273\n",
            "Loss at epoch 23000 is 11.202787722075737\n",
            "Loss at epoch 24000 is 11.202392294186266\n",
            "Loss at epoch 25000 is 11.201996866321977\n",
            "Loss at epoch 26000 is 11.19971783556191\n",
            "Loss at epoch 27000 is 11.199387953171993\n",
            "Loss at epoch 28000 is 11.19983530439\n",
            "Loss at epoch 29000 is 11.20237264059175\n",
            "Loss at epoch 30000 is 11.202461739660793\n",
            "Loss at epoch 31000 is 11.203295530988596\n",
            "Loss at epoch 32000 is 11.202900104331867\n",
            "Loss at epoch 33000 is 11.20055407041617\n",
            "Loss at epoch 34000 is 11.200158652938079\n",
            "Loss at epoch 35000 is 11.199763224331539\n",
            "Loss at epoch 36000 is 11.197417185618134\n",
            "Loss at epoch 37000 is 11.197021770894295\n",
            "Loss at epoch 38000 is 11.201010805266478\n",
            "Loss at epoch 39000 is 11.196232645143539\n",
            "Loss at epoch 40000 is 11.201189020605172\n",
            "Loss at epoch 41000 is 11.198471595786021\n",
            "Loss at epoch 42000 is 11.199691139773112\n",
            "Loss at epoch 43000 is 11.20027103071707\n",
            "Loss at epoch 44000 is 11.19694969512383\n",
            "Loss at epoch 45000 is 11.197529572932979\n",
            "Loss at epoch 46000 is 11.194294486932066\n",
            "Loss at epoch 47000 is 11.19478811672355\n",
            "Loss at epoch 48000 is 11.19439268723631\n",
            "Loss at epoch 49000 is 11.194214172075409\n"
          ],
          "name": "stdout"
        },
        {
          "output_type": "execute_result",
          "data": {
            "text/plain": [
              "54.576741456985474"
            ]
          },
          "metadata": {
            "tags": []
          },
          "execution_count": 85
        }
      ]
    },
    {
      "cell_type": "markdown",
      "metadata": {
        "id": "t04YSY3UqdaR"
      },
      "source": [
        "Plotting the function we generated"
      ]
    },
    {
      "cell_type": "code",
      "metadata": {
        "colab": {
          "base_uri": "https://localhost:8080/",
          "height": 283
        },
        "id": "2pr0SKT1M1wu",
        "outputId": "949b43e1-de6a-43a1-90a2-78e672921d0c"
      },
      "source": [
        "a = np.linspace(0,10,num=70)\r\n",
        "plt.plot(a,np.sin(a),color='green')\r\n",
        "plt.scatter(x,y,color='black')\r\n",
        "plt.scatter(x,yhat,color='red')\r\n",
        "plt.plot(x,yhat)"
      ],
      "execution_count": 86,
      "outputs": [
        {
          "output_type": "execute_result",
          "data": {
            "text/plain": [
              "[<matplotlib.lines.Line2D at 0x7f111acf4c50>]"
            ]
          },
          "metadata": {
            "tags": []
          },
          "execution_count": 86
        },
        {
          "output_type": "display_data",
          "data": {
            "image/png": "[encoded data removed]",
            "text/plain": [
              "<Figure size 432x288 with 1 Axes>"
            ]
          },
          "metadata": {
            "tags": [],
            "needs_background": "light"
          }
        }
      ]
    },
    {
      "cell_type": "markdown",
      "metadata": {
        "id": "Y6E-6XDLqlB9"
      },
      "source": [
        "---\r\n",
        "With this, we have come to the end of the notebook! Our fitted curve might look to be very different from sin x, but if we compare datapoint for datapoint in blue and black, we see that actually we have done quite well on the dataset with little data. We did better with the Mean Squared error loss function.  "
      ]
    },
    {
      "cell_type": "code",
      "metadata": {
        "id": "59KiMC6Bq6Na"
      },
      "source": [
        ""
      ],
      "execution_count": null,
      "outputs": []
    }
  ]
}